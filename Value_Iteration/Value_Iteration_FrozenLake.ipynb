{
  "nbformat": 4,
  "nbformat_minor": 0,
  "metadata": {
    "colab": {
      "name": "Value_Iteration_FrozenLake.ipynb",
      "provenance": [],
      "collapsed_sections": []
    },
    "kernelspec": {
      "name": "python3",
      "display_name": "Python 3"
    },
    "language_info": {
      "name": "python"
    }
  },
  "cells": [
    {
      "cell_type": "code",
      "metadata": {
        "id": "94uWl07ClL9v"
      },
      "source": [
        "####"
      ],
      "execution_count": null,
      "outputs": []
    },
    {
      "cell_type": "code",
      "metadata": {
        "id": "1-Jqskei2h1i"
      },
      "source": [
        "import gym \n",
        "import collections"
      ],
      "execution_count": null,
      "outputs": []
    },
    {
      "cell_type": "code",
      "metadata": {
        "id": "_hnKIHiA2kRf"
      },
      "source": [
        "class Config:\n",
        "    def __init__(self):\n",
        "        self.GAMMA = 0.9\n",
        "        self.ENV_NAME = 'FrozenLake-v0'\n",
        "        self.TEST_EPISODES = 20"
      ],
      "execution_count": null,
      "outputs": []
    },
    {
      "cell_type": "code",
      "metadata": {
        "id": "pzlzBcSu9ayC"
      },
      "source": [
        "class Agent:\n",
        "    def __init__(self):\n",
        "        self.config = Config()\n",
        "\n",
        "        self.env = gym.make(self.config.ENV_NAME)\n",
        "        self.state = self.env.reset()\n",
        "\n",
        "        self.reward = collections.defaultdict(float)\n",
        "        self.transists = collections.defaultdict(collections.Counter)\n",
        "        self.values = collections.defaultdict(float)\n",
        "\n",
        "    def play_n_random_steps(self , steps):\n",
        "        for _ in range(steps):\n",
        "            action = self.env.action_space.sample()\n",
        "            new_state , reward , is_done , _ = self.env.step(action)\n",
        "\n",
        "            self.reward[(self.state , action , new_state)] = reward\n",
        "            self.transists[(self.state , action)][new_state] += 1\n",
        "            \n",
        "            self.state = self.env.reset() if is_done else new_state\n",
        "    \n",
        "    def calc_action_value(self , state , action):\n",
        "        target_counts = self.transists[(state , action)]\n",
        "        total = sum(target_counts.values())\n",
        "        action_values = 0.0\n",
        "\n",
        "        for tgt , count in target_counts.items():\n",
        "            reward = self.reward[(state , action , tgt)]\n",
        "            val = reward + self.config.GAMMA * self.values[tgt]\n",
        "            action_values += (count / total) * val\n",
        "        return action_values\n",
        "\n",
        "    def select_action(self , state):\n",
        "        best_action , best_value = None , None\n",
        "\n",
        "        for action in range(self.env.action_space.n):\n",
        "            action_value = self.calc_action_value(state , action)\n",
        "            if best_action is None or best_value < action_value:\n",
        "                best_value = action_value\n",
        "                best_action = action\n",
        "        return best_action\n",
        "\n",
        "    def play_episode(self , env):\n",
        "        total_reward = 0.0\n",
        "        state = env.reset()\n",
        "\n",
        "        while True:\n",
        "            action = self.select_action(state)\n",
        "            new_state , reward , is_done , _ = env.step(action)\n",
        "            \n",
        "            self.reward[(state , action , new_state)] = reward\n",
        "            self.transists[(state , action)][new_state] += 1\n",
        "            total_reward += reward\n",
        "            if is_done:\n",
        "                break\n",
        "            state = new_state\n",
        "        return total_reward\n",
        "\n",
        "    def value_iteration(self):\n",
        "        for state in range(self.env.observation_space.n):\n",
        "            state_values = [self.calc_action_value(state , action) for action in range(self.env.action_space.n)]\n",
        "            self.values[state] = max(state_values)"
      ],
      "execution_count": null,
      "outputs": []
    },
    {
      "cell_type": "code",
      "metadata": {
        "id": "OUYBnFL3_RMf"
      },
      "source": [
        "config = Config()\n",
        "agent = Agent()\n",
        "env = gym.make(config.ENV_NAME)"
      ],
      "execution_count": null,
      "outputs": []
    },
    {
      "cell_type": "code",
      "metadata": {
        "colab": {
          "base_uri": "https://localhost:8080/"
        },
        "id": "VnhCn9uWB7Kh",
        "outputId": "6b3fecf4-9777-459e-e79b-67dfd8efd3e9"
      },
      "source": [
        "iter_no = 0\n",
        "best_reward = 0.0\n",
        "\n",
        "while True:\n",
        "    iter_no += 1\n",
        "\n",
        "    agent.play_n_random_steps(100)\n",
        "    agent.value_iteration()\n",
        "    reward = 0.0\n",
        "\n",
        "    for _ in range(config.TEST_EPISODES):\n",
        "        reward += agent.play_episode(env)\n",
        "    reward /= config.TEST_EPISODES\n",
        "\n",
        "    if reward > best_reward:\n",
        "        print(f'Best reward updated {best_reward} , {reward}')\n",
        "        best_reward = reward\n",
        "    if reward > 0.80:\n",
        "        print(f'Solved in iterations {iter_no}')\n",
        "        break"
      ],
      "execution_count": null,
      "outputs": [
        {
          "output_type": "stream",
          "name": "stdout",
          "text": [
            "Best reward updated 0.0 , 0.6\n",
            "Best reward updated 0.6 , 0.75\n",
            "Best reward updated 0.75 , 0.9\n",
            "Solved in iterations 32\n"
          ]
        }
      ]
    },
    {
      "cell_type": "code",
      "metadata": {
        "id": "YkO-8YgZCTYo"
      },
      "source": [
        ""
      ],
      "execution_count": null,
      "outputs": []
    }
  ]
}