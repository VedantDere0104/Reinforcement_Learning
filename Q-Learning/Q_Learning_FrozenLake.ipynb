{
  "nbformat": 4,
  "nbformat_minor": 0,
  "metadata": {
    "colab": {
      "name": "Q-Learning_FrozenLake.ipynb",
      "provenance": [],
      "collapsed_sections": []
    },
    "kernelspec": {
      "name": "python3",
      "display_name": "Python 3"
    },
    "language_info": {
      "name": "python"
    }
  },
  "cells": [
    {
      "cell_type": "code",
      "metadata": {
        "id": "7Zm5Br6NqcGs"
      },
      "source": [
        "####"
      ],
      "execution_count": 1,
      "outputs": []
    },
    {
      "cell_type": "code",
      "metadata": {
        "id": "PDOtwoqJqfXF"
      },
      "source": [
        "import gym\n",
        "import collections"
      ],
      "execution_count": 2,
      "outputs": []
    },
    {
      "cell_type": "code",
      "metadata": {
        "id": "vLXIwupsqqbt"
      },
      "source": [
        "class Config:\n",
        "    def __init__(self):\n",
        "        self.GAMMA = 0.9\n",
        "        self.ENV_NAME = 'FrozenLake-v0'\n",
        "        self.TEST_EPISODES = 20"
      ],
      "execution_count": 3,
      "outputs": []
    },
    {
      "cell_type": "code",
      "metadata": {
        "id": "HeFutyiCqwjC"
      },
      "source": [
        "class Agent:\n",
        "    def __init__(self , \n",
        "                 Config = Config):\n",
        "        \n",
        "        self.config = Config()\n",
        "        self.env = gym.make(self.config.ENV_NAME)\n",
        "        \n",
        "        self.reward = collections.defaultdict(float)\n",
        "        self.transists = collections.defaultdict(collections.Counter)\n",
        "        self.q_values = collections.defaultdict(float)\n",
        "        self.state = self.env.reset()\n",
        "\n",
        "    def play_n_random_steps(self , steps):\n",
        "        for _ in range(steps):\n",
        "            action = self.env.action_space.sample()\n",
        "            new_state , reward , is_done , _ = self.env.step(action)\n",
        "            \n",
        "            self.reward[(self.state , action , new_state)] = reward\n",
        "            self.transists[(self.state , action)][new_state] += 1\n",
        "            \n",
        "            self.state = self.env.reset() if is_done else new_state\n",
        "\n",
        "    def select_action(self , state):\n",
        "        best_action , best_value = None , None\n",
        "\n",
        "        for action in range(self.env.action_space.n):\n",
        "            action_value = self.q_values[(state , action)]\n",
        "            if best_action is None or best_value < action_value:\n",
        "                best_action = action\n",
        "                best_value = action_value\n",
        "        return best_action\n",
        "\n",
        "    def q_value_iteration(self):\n",
        "        for state in range(self.env.observation_space.n):\n",
        "            for action in range(self.env.action_space.n):\n",
        "                action_values = 0.0\n",
        "                target_counts = self.transists[(state , action)]\n",
        "                total = sum(target_counts.values())\n",
        "\n",
        "                for tgt_state , count in target_counts.items():\n",
        "                    key = (state , action , tgt_state)\n",
        "                    reward = self.reward[key]\n",
        "                    best_action = self.select_action(tgt_state)\n",
        "                    val = reward + self.config.GAMMA * self.q_values[(tgt_state , best_action)]\n",
        "                    action_values += (count / total) * val\n",
        "                self.q_values[(state , action)] = action_values\n",
        "\n",
        "    def play_episode(self , env):\n",
        "        total_reward = 0.0\n",
        "        state = env.reset()\n",
        "\n",
        "        while True:\n",
        "            action = self.select_action(state)\n",
        "            new_state , reward , is_done , _ = env.step(action)\n",
        "            \n",
        "            self.reward[(state , action , new_state)] = reward\n",
        "            self.transists[(state , action)][new_state] += 1\n",
        "            total_reward += reward\n",
        "            if is_done:\n",
        "                break\n",
        "            state = new_state\n",
        "        return total_reward"
      ],
      "execution_count": 43,
      "outputs": []
    },
    {
      "cell_type": "code",
      "metadata": {
        "id": "hfsEZirrrJoM"
      },
      "source": [
        "config = Config()\n",
        "agent = Agent()\n",
        "env = gym.make(config.ENV_NAME)"
      ],
      "execution_count": 44,
      "outputs": []
    },
    {
      "cell_type": "code",
      "metadata": {
        "id": "Zc4Evy9wtjer"
      },
      "source": [
        "iter_no = 0\n",
        "best_reward = 0.0\n",
        "\n",
        "while True:\n",
        "    env.render()\n",
        "    iter_no += 1\n",
        "\n",
        "    agent.play_n_random_steps(100)\n",
        "    agent.q_value_iteration()\n",
        "    reward = 0.0\n",
        "\n",
        "    for _ in range(config.TEST_EPISODES):\n",
        "        reward += agent.play_episode(env)\n",
        "    reward /= config.TEST_EPISODES\n",
        "\n",
        "    if reward > best_reward:\n",
        "        print(f'Best reward updated {best_reward} , {reward}')\n",
        "        best_reward = reward\n",
        "    if reward > 0.80:\n",
        "        print(f'Solved in iterations {iter_no}')\n",
        "        break"
      ],
      "execution_count": null,
      "outputs": []
    },
    {
      "cell_type": "code",
      "metadata": {
        "id": "fBRpLlbztkmS"
      },
      "source": [
        ""
      ],
      "execution_count": null,
      "outputs": []
    }
  ]
}